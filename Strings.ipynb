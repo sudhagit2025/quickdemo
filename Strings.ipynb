{
 "cells": [
  {
   "cell_type": "code",
   "execution_count": 2,
   "id": "43e79d3e-67eb-490e-b8b7-4d797f4dccfa",
   "metadata": {},
   "outputs": [],
   "source": [
    "string=\"I\"\n",
    "string2=\"am learning\"\n",
    "string3 =\"Python.\"\n",
    "string4 =\"Variable declaration\"\n",
    "string5 =\"isn\\\"t required unlike c#\"\n",
    "\n",
    "string6 ='isn\"t required unlike c#'"
   ]
  },
  {
   "cell_type": "code",
   "execution_count": 13,
   "id": "aa60db81-439b-4295-8ef1-4b5c2af1d861",
   "metadata": {},
   "outputs": [
    {
     "name": "stdout",
     "output_type": "stream",
     "text": [
      "I am learning Python. Variable declaration isn\"t required unlike c# isn\"t required unlike c#\n"
     ]
    }
   ],
   "source": [
    "print(string,string2,string3,string4,string5,string6)"
   ]
  },
  {
   "cell_type": "markdown",
   "id": "3de2b87e-ef70-4c4f-bafa-33956114f91f",
   "metadata": {},
   "source": [
    "comb_string = string+\" \"+string2\n",
    "comb_string.upper()\n",
    "print(comb_string.upper())\n"
   ]
  },
  {
   "cell_type": "markdown",
   "id": "0ca9f7aa-8f9e-4cf6-8e1f-e90dba5f5b50",
   "metadata": {},
   "source": [
    "string"
   ]
  },
  {
   "cell_type": "markdown",
   "id": "8e08b26f-90c4-45cd-ade0-c3aa70dd43db",
   "metadata": {},
   "source": [
    "## Strings are sequential objects that start with 0, akin C#"
   ]
  },
  {
   "cell_type": "code",
   "execution_count": 27,
   "id": "4fbb2348-e3b8-482f-bee5-34d5aea6b361",
   "metadata": {},
   "outputs": [
    {
     "data": {
      "text/plain": [
       "'a'"
      ]
     },
     "execution_count": 27,
     "metadata": {},
     "output_type": "execute_result"
    }
   ],
   "source": [
    "string2."
   ]
  },
  {
   "cell_type": "markdown",
   "id": "9c1fbc0d-c6a1-4036-b4f3-9bb4588ba36e",
   "metadata": {},
   "source": [
    "# What I have learned so far\n",
    "1. Set up Jupyter Notebook and create project file\n",
    "2. Basic of Cell-code cell and Markdown cell\n",
    "3. Print Statements\n",
    "4. Basic Objects\n",
    "* Strings\n",
    "* int\n",
    "* float\n",
    "* bool\n",
    "5. Variable and naming conventions\n",
    "6. Operators\n",
    "7. Objects have attributes and method"
   ]
  },
  {
   "cell_type": "code",
   "execution_count": 28,
   "id": "fd4b60da-efcd-42c7-9af5-d3d405f42d33",
   "metadata": {},
   "outputs": [
    {
     "data": {
      "text/plain": [
       "True"
      ]
     },
     "execution_count": 28,
     "metadata": {},
     "output_type": "execute_result"
    }
   ],
   "source": [
    "3!=4"
   ]
  },
  {
   "cell_type": "code",
   "execution_count": 7,
   "id": "7c1c9697-fd67-4acd-86a1-23b6a3b09495",
   "metadata": {},
   "outputs": [
    {
     "name": "stdout",
     "output_type": "stream",
     "text": [
      "Vari\n"
     ]
    }
   ],
   "source": [
    "string_slicing =\"Variable declaration\"\n",
    "print(string_slicing[0:4])"
   ]
  },
  {
   "cell_type": "code",
   "execution_count": 10,
   "id": "ca94cb6b-37be-407e-a15b-9202fd384fc4",
   "metadata": {},
   "outputs": [
    {
     "name": "stdout",
     "output_type": "stream",
     "text": [
      "Variable declaration\n"
     ]
    }
   ],
   "source": [
    "#find\n",
    "#startwith\n",
    "#join\n",
    "#attributes and methods \n",
    "string_strip =\"  Variable declaration  \"\n",
    "print(string_strip.strip())\n"
   ]
  },
  {
   "cell_type": "markdown",
   "id": "22b3537f-c987-414e-99cf-b8002b20bf5a",
   "metadata": {},
   "source": [
    "## First data structure"
   ]
  },
  {
   "cell_type": "code",
   "execution_count": 14,
   "id": "28abc03f-2574-4898-9dff-c255c6b0406e",
   "metadata": {},
   "outputs": [
    {
     "data": {
      "text/plain": [
       "[['tom', 'harry'], ['cat', 'dog']]"
      ]
     },
     "execution_count": 14,
     "metadata": {},
     "output_type": "execute_result"
    }
   ],
   "source": [
    "people = ['tom','harry']\n",
    "pets = ['cat','dog']\n",
    "number_of_frnd = [1,2]\n",
    "ages = [26.5,24]\n",
    "\n",
    "atypical_list =[1,'cat'] \n",
    "nested_list = [people,pets]\n",
    "nested_list\n"
   ]
  },
  {
   "cell_type": "code",
   "execution_count": 21,
   "id": "634a03f6-f112-42d6-aa7e-46278813edde",
   "metadata": {},
   "outputs": [
    {
     "data": {
      "text/plain": [
       "'harry'"
      ]
     },
     "execution_count": 21,
     "metadata": {},
     "output_type": "execute_result"
    }
   ],
   "source": [
    "people[1]"
   ]
  }
 ],
 "metadata": {
  "kernelspec": {
   "display_name": "Python [conda env:base] *",
   "language": "python",
   "name": "conda-base-py"
  },
  "language_info": {
   "codemirror_mode": {
    "name": "ipython",
    "version": 3
   },
   "file_extension": ".py",
   "mimetype": "text/x-python",
   "name": "python",
   "nbconvert_exporter": "python",
   "pygments_lexer": "ipython3",
   "version": "3.13.5"
  }
 },
 "nbformat": 4,
 "nbformat_minor": 5
}
